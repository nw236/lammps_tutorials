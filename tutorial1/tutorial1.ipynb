{
 "cells": [
  {
   "cell_type": "markdown",
   "id": "3d258d3e-1d46-490c-85a2-5b81897da373",
   "metadata": {},
   "source": [
    "# First tutorial"
   ]
  },
  {
   "cell_type": "markdown",
   "id": "c5a7c359-8651-4c4b-808e-e3753129969b",
   "metadata": {},
   "source": [
    "Welcome to our first lammps tutorial.\n",
    "We are starting with some basics, steps needed to start a simulation, structure of an input file and some terminology.\n",
    "\n",
    "Enjoy."
   ]
  },
  {
   "cell_type": "code",
   "execution_count": null,
   "id": "71d9516d-28d8-4092-99d4-0390b2f8ba28",
   "metadata": {},
   "outputs": [],
   "source": []
  }
 ],
 "metadata": {
  "kernelspec": {
   "display_name": "Python",
   "language": "python",
   "name": "sys_python"
  },
  "language_info": {
   "codemirror_mode": {
    "name": "ipython",
    "version": 3
   },
   "file_extension": ".py",
   "mimetype": "text/x-python",
   "name": "python",
   "nbconvert_exporter": "python",
   "pygments_lexer": "ipython3",
   "version": "3.11.3"
  }
 },
 "nbformat": 4,
 "nbformat_minor": 5
}
